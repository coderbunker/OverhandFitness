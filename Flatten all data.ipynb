{
 "cells": [
  {
   "cell_type": "markdown",
   "metadata": {},
   "source": [
    " The goal is to provide a database of false examples for training the algorithm on a chosen exercise, waterbag hard.\n",
    " All the data provided is put together in a single table and repetitions of each exercise are separated into unique rows of data.\n",
    " The main difficulty is to resize the range of movements so they all fit into the database. Within one exercise the length of movements is rather similar so deciding on a standard time does not impact the result; but using the same time for all exercises is misleading. The chosen solution is to remove or add (using forward-fill) lines of data at regular intervals until all data fit into the fixed 137 (i.e. 1.37 seconds) length, which is appropriate for the waterbag exercise."
   ]
  },
  {
   "cell_type": "code",
   "execution_count": 19,
   "metadata": {},
   "outputs": [
    {
     "data": {
      "text/html": [
       "<div>\n",
       "<style scoped>\n",
       "    .dataframe tbody tr th:only-of-type {\n",
       "        vertical-align: middle;\n",
       "    }\n",
       "\n",
       "    .dataframe tbody tr th {\n",
       "        vertical-align: top;\n",
       "    }\n",
       "\n",
       "    .dataframe thead th {\n",
       "        text-align: right;\n",
       "    }\n",
       "</style>\n",
       "<table border=\"1\" class=\"dataframe\">\n",
       "  <thead>\n",
       "    <tr style=\"text-align: right;\">\n",
       "      <th></th>\n",
       "      <th>gyroX</th>\n",
       "      <th>gyroY</th>\n",
       "      <th>gyroZ</th>\n",
       "      <th>lowAccelX</th>\n",
       "      <th>lowAccelY</th>\n",
       "      <th>lowAccelZ</th>\n",
       "      <th>highAccelX</th>\n",
       "      <th>highAccelY</th>\n",
       "      <th>highAccelZ</th>\n",
       "      <th>exercise</th>\n",
       "    </tr>\n",
       "  </thead>\n",
       "  <tbody>\n",
       "    <tr>\n",
       "      <th>0</th>\n",
       "      <td>617.0</td>\n",
       "      <td>342.0</td>\n",
       "      <td>-1120.0</td>\n",
       "      <td>1338.0</td>\n",
       "      <td>2865.0</td>\n",
       "      <td>2215.0</td>\n",
       "      <td>-267.0</td>\n",
       "      <td>686.0</td>\n",
       "      <td>621.0</td>\n",
       "      <td>jab_cross_shadowboxing_medium_20_T7R_153155124...</td>\n",
       "    </tr>\n",
       "    <tr>\n",
       "      <th>1</th>\n",
       "      <td>477.0</td>\n",
       "      <td>-49.0</td>\n",
       "      <td>-1214.0</td>\n",
       "      <td>1516.0</td>\n",
       "      <td>3041.0</td>\n",
       "      <td>2332.0</td>\n",
       "      <td>-249.0</td>\n",
       "      <td>704.0</td>\n",
       "      <td>633.0</td>\n",
       "      <td>jab_cross_shadowboxing_medium_20_T7R_153155124...</td>\n",
       "    </tr>\n",
       "    <tr>\n",
       "      <th>2</th>\n",
       "      <td>228.0</td>\n",
       "      <td>-596.0</td>\n",
       "      <td>-1256.0</td>\n",
       "      <td>1602.0</td>\n",
       "      <td>3406.0</td>\n",
       "      <td>1796.0</td>\n",
       "      <td>-240.0</td>\n",
       "      <td>740.0</td>\n",
       "      <td>579.0</td>\n",
       "      <td>jab_cross_shadowboxing_medium_20_T7R_153155124...</td>\n",
       "    </tr>\n",
       "    <tr>\n",
       "      <th>3</th>\n",
       "      <td>24.0</td>\n",
       "      <td>-1098.0</td>\n",
       "      <td>-1276.0</td>\n",
       "      <td>1264.0</td>\n",
       "      <td>3484.0</td>\n",
       "      <td>1194.0</td>\n",
       "      <td>-274.0</td>\n",
       "      <td>748.0</td>\n",
       "      <td>519.0</td>\n",
       "      <td>jab_cross_shadowboxing_medium_20_T7R_153155124...</td>\n",
       "    </tr>\n",
       "    <tr>\n",
       "      <th>4</th>\n",
       "      <td>-164.0</td>\n",
       "      <td>-1552.0</td>\n",
       "      <td>-1236.0</td>\n",
       "      <td>1016.0</td>\n",
       "      <td>3876.0</td>\n",
       "      <td>576.0</td>\n",
       "      <td>-299.0</td>\n",
       "      <td>787.0</td>\n",
       "      <td>457.0</td>\n",
       "      <td>jab_cross_shadowboxing_medium_20_T7R_153155124...</td>\n",
       "    </tr>\n",
       "  </tbody>\n",
       "</table>\n",
       "</div>"
      ],
      "text/plain": [
       "   gyroX   gyroY   gyroZ  lowAccelX  lowAccelY  lowAccelZ  highAccelX  \\\n",
       "0  617.0   342.0 -1120.0     1338.0     2865.0     2215.0      -267.0   \n",
       "1  477.0   -49.0 -1214.0     1516.0     3041.0     2332.0      -249.0   \n",
       "2  228.0  -596.0 -1256.0     1602.0     3406.0     1796.0      -240.0   \n",
       "3   24.0 -1098.0 -1276.0     1264.0     3484.0     1194.0      -274.0   \n",
       "4 -164.0 -1552.0 -1236.0     1016.0     3876.0      576.0      -299.0   \n",
       "\n",
       "   highAccelY  highAccelZ                                           exercise  \n",
       "0       686.0       621.0  jab_cross_shadowboxing_medium_20_T7R_153155124...  \n",
       "1       704.0       633.0  jab_cross_shadowboxing_medium_20_T7R_153155124...  \n",
       "2       740.0       579.0  jab_cross_shadowboxing_medium_20_T7R_153155124...  \n",
       "3       748.0       519.0  jab_cross_shadowboxing_medium_20_T7R_153155124...  \n",
       "4       787.0       457.0  jab_cross_shadowboxing_medium_20_T7R_153155124...  "
      ]
     },
     "execution_count": 19,
     "metadata": {},
     "output_type": "execute_result"
    }
   ],
   "source": [
    "import pandas as pd\n",
    "trackers=pd.read_csv('data1.csv')\n",
    "#trackers=pd.read_csv('data2.csv')\n",
    "trackers.head()"
   ]
  },
  {
   "cell_type": "code",
   "execution_count": 20,
   "metadata": {},
   "outputs": [],
   "source": [
    "#Using a margin of 68 before and after the maximum as a standard based on waterbag hard (68*2+1=137)\n",
    "sensors_columns=list(trackers.columns)\n",
    "sensors_columns.remove('exercise')\n",
    "col_names=[sensors_columns[i]+str(n) for n in range(0,137) for i in range(0,len(sensors_columns)) ]\n",
    "flat_trackers = pd.DataFrame(columns=col_names)"
   ]
  },
  {
   "cell_type": "code",
   "execution_count": 21,
   "metadata": {},
   "outputs": [
    {
     "data": {
      "text/plain": [
       "(361386, 11)"
      ]
     },
     "execution_count": 21,
     "metadata": {},
     "output_type": "execute_result"
    }
   ],
   "source": [
    "#Find max of each row\n",
    "trackers['max_value']=trackers.max(axis=1)\n",
    "trackers.shape"
   ]
  },
  {
   "cell_type": "code",
   "execution_count": 22,
   "metadata": {},
   "outputs": [],
   "source": [
    "trackers.dropna(inplace=True)"
   ]
  },
  {
   "cell_type": "code",
   "execution_count": 23,
   "metadata": {},
   "outputs": [
    {
     "data": {
      "text/plain": [
       "(361310, 11)"
      ]
     },
     "execution_count": 23,
     "metadata": {},
     "output_type": "execute_result"
    }
   ],
   "source": [
    "trackers.shape"
   ]
  },
  {
   "cell_type": "code",
   "execution_count": 24,
   "metadata": {},
   "outputs": [
    {
     "data": {
      "text/plain": [
       "array([ 20.,  10.,   8.,   9., 177., 178.,  40.,  44.,  32., 125., 121.,\n",
       "       120.,  19.])"
      ]
     },
     "execution_count": 24,
     "metadata": {},
     "output_type": "execute_result"
    }
   ],
   "source": [
    "#Count movements in each series from the series title (when the count is indicated)\n",
    "trackers['repetitions']=trackers['exercise'].str.extract('(\\d+)_T7', expand=True)\n",
    "trackers.repetitions = pd.to_numeric(trackers.repetitions,errors='coerce')\n",
    "#for series of noise, the range is a factor of the length of time / 137 (our chosen standard length based on waterbag_hard)\n",
    "trackers['length'] = trackers.groupby(['exercise']).transform('count')['gyroX']\n",
    "fill_value=trackers['length']/137\n",
    "trackers['repetitions'].fillna(round(fill_value,0),inplace=True)\n",
    "trackers.repetitions.unique()"
   ]
  },
  {
   "cell_type": "code",
   "execution_count": 25,
   "metadata": {},
   "outputs": [],
   "source": [
    "#Create a list of exercise names (there is a problem with the end parenthesis of the files starting with '(jab_)')\n",
    "#list_names=[s.replace('(jab_)','').replace('jab(_cross)','') for s in trackers['exercise'].unique()]\n",
    "#hopefully the parenthesis mistake above corrected when generating the csv data.\n",
    "list_names=[s for s in trackers['exercise'].unique()]"
   ]
  },
  {
   "cell_type": "markdown",
   "metadata": {},
   "source": [
    "The below solution doesn't work very well. A demonstration of RapidMiner has shown that instead of trying to identify the local maximum as both a clue on the number of repetitions and the median of one movement, it would be more efficient to train the model to recognize the beginning of a pattern by using the first movement as a model. We propose to try to imitate this RapidMiner approach in another program in the future."
   ]
  },
  {
   "cell_type": "code",
   "execution_count": 26,
   "metadata": {},
   "outputs": [],
   "source": [
    "#Find local maximums & extract margin\n",
    "def find_max(df):\n",
    "    reps=int(df.repetitions.unique())\n",
    "    maximums=df.max_value.sort_values(ascending=False)[0:reps] #imperfect solution when the maximum is reached slowly\n",
    "    maximums.sort_index(inplace=True)\n",
    "    #Select only the maximums corresponding to the number of repetitions\n",
    "    margin=int((maximums.index[reps-1]-maximums.index[0])/(reps-1)/2)\n",
    "    start=df.index[0]\n",
    "    return maximums.index.values,margin,start"
   ]
  },
  {
   "cell_type": "code",
   "execution_count": 27,
   "metadata": {},
   "outputs": [
    {
     "name": "stdout",
     "output_type": "stream",
     "text": [
      "[1, 2, 3, 4, 6, 7, 8]\n"
     ]
    }
   ],
   "source": [
    "#Function to filter a list randomly by a certain ratio.\n",
    "#Will be used to create a new index starting at the start of the df and jumping at random intervals for df longer than 137\n",
    "import random\n",
    "def strip_index(l,n):\n",
    "    return sorted(random.sample(l,int(len(l)*(1-n))))\n",
    "print(strip_index(list(range(1,11)),0.25))"
   ]
  },
  {
   "cell_type": "code",
   "execution_count": 28,
   "metadata": {},
   "outputs": [
    {
     "data": {
      "text/plain": [
       "[100, 0, 101, 0, 102, 0, 103, 104, 105, 106, 0, 107, 108, 109]"
      ]
     },
     "execution_count": 28,
     "metadata": {},
     "output_type": "execute_result"
    }
   ],
   "source": [
    "#function to randomly inflate a list with zeros. Will be used to reindex df of length shorter than 137\n",
    "def inflate_index(lst, n):\n",
    "    insert_locations = random.sample(range(1,len(lst) + n), n)\n",
    "    inserts = dict(zip(insert_locations, [0]*n))\n",
    "    input = iter(lst)\n",
    "    lst=[inserts[pos] if pos in inserts else next(input) for pos in list(range(len(lst)+n))]\n",
    "    return lst\n",
    "inflate_index(range(100,110),4)"
   ]
  },
  {
   "cell_type": "code",
   "execution_count": 29,
   "metadata": {},
   "outputs": [],
   "source": [
    "# import numpy as np\n",
    "\n",
    "# for i in range(0,len(list_names)):\n",
    "#     #Take each exercise one by one\n",
    "#     exercise_indices = trackers[trackers.exercise.str.contains(list_names[i])].index\n",
    "#     exercise=trackers.loc[exercise_indices, :]\n",
    "#     print(list_names[i])\n",
    "#     loc_maxs,margin,start=find_max(exercise)\n",
    "#     #Separate by individual movements \n",
    "#     for j in loc_maxs:     \n",
    "#         #cut into distinct movements\n",
    "#         exercise1=exercise.drop(['exercise','max_value','repetitions','length'],axis=1)\n",
    "#         one_mvt=exercise1[j-margin-start:j+1+margin-start]\n",
    "          \n",
    "#         #Standardize the length of movements to 1.37 seconds (137 rows) (2)\n",
    "#         if margin*2+1>137:\n",
    "#             new_index=strip_index(list(range(j-margin,j+margin+1)),1-137/(margin*2+1))\n",
    "#         elif margin*2+1<=137:\n",
    "#             new_index=inflate_index(list(range(j-margin,j+margin+1)),137-(margin*2+1))\n",
    "#         one_mvt=one_mvt.reindex(new_index)\n",
    "#         #one_mvt.fillna(method='ffill',inplace=True)\n",
    "#         one_mvt.interpolate(inplace=True)\n",
    "            \n",
    "#         #Flatten the data\n",
    "#         one_mvt.reset_index(inplace=True)\n",
    "#         one_mvt=one_mvt.drop('index',axis=1)\n",
    "#         one_mvt=one_mvt.reindex(range(0,137))\n",
    "#         a=pd.Series(one_mvt.values.flatten())\n",
    "#         a=a.rename(index=lambda x:col_names[x]).T\n",
    "        \n",
    "#         #Add back name columns\n",
    "#         a['exercise']=list_names[i]\n",
    "        \n",
    "#         #Fit into one dataframe\n",
    "#         flat_trackers=flat_trackers.append(a,ignore_index=True)"
   ]
  },
  {
   "cell_type": "code",
   "execution_count": 30,
   "metadata": {},
   "outputs": [],
   "source": [
    "#flat_trackers.to_csv('flat_data.csv',index=False)\n",
    "#flat_trackers.to_csv('flat_dataAug13.csv',index=False)"
   ]
  },
  {
   "cell_type": "code",
   "execution_count": 31,
   "metadata": {},
   "outputs": [],
   "source": [
    "#Function to add descriptive statistics\n",
    "def descr_stats(df,mvt_df):\n",
    "    statistics=['mean','std','min','max']\n",
    "    describe_df=mvt_df.describe()\n",
    "    for k in sensors_columns:\n",
    "        for l in statistics:\n",
    "            stat_name=str(k)+'_'+str(l)\n",
    "            df[stat_name]=describe_df[k].loc[l]\n",
    "    return df[stat_name]"
   ]
  },
  {
   "cell_type": "code",
   "execution_count": 32,
   "metadata": {},
   "outputs": [
    {
     "name": "stdout",
     "output_type": "stream",
     "text": [
      "jab_cross_shadowboxing_medium_20_T7R_1531551242371.txt\n",
      "jab_cross_shadowboxing_slow_20_T7R_1531551153638.txt\n",
      "jab_cross_waterbag_hard_20_T7R_1531551996366.txt\n",
      "jab_cross_waterbag_light_20_T7R_1531551877937.txt\n",
      "jab_cross_waterbag_mediumpower_20_T7R_1531551924743.txt\n",
      "biceps_curls_10_T7L_1531913275450.txt\n",
      "biceps_curls_10_T7L_1531913463782.txt\n",
      "biceps_curls_10_T7L_1531913706454.txt\n",
      "biceps_curls_10_T7R_1531913275450.txt\n",
      "biceps_curls_10_T7R_1531913463782.txt\n",
      "biceps_curls_10_T7R_1531913706454.txt\n",
      "deadlifts_heavy_8_T7L_1531912543772.txt\n",
      "deadlifts_heavy_8_T7L_1531912657776.txt\n",
      "deadlifts_heavy_8_T7L_1531912925288.txt\n",
      "deadlifts_heavy_8_T7R_1531912543772.txt\n",
      "deadlifts_heavy_8_T7R_1531912657776.txt\n",
      "deadlifts_heavy_8_T7R_1531912925288.txt\n",
      "deadlifts_heavy_9_T7L_1531912395989.txt\n",
      "deadlifts_heavy_9_T7R_1531912395989.txt\n",
      "freestyle_punches_waterbag_T11L_1531742535492.txt\n",
      "freestyle_punches_waterbag_T11R_1531742535492.txt\n",
      "hooks_waterbag_hard_20_T7L_1531552258694.txt\n",
      "hooks_waterbag_hard_20_T7R_1531552258694.txt\n",
      "hooks_waterbag_hard_40_T7L_1531552258694.txt\n",
      "hooks_waterbag_hard_40_T7R_1531552258694.txt\n",
      "hooks_waterbag_light_20_T7L_1531552145230.txt\n",
      "hooks_waterbag_light_20_T7R_1531552145230.txt\n",
      "hooks_waterbag_light_40_T7L_1531552145230.txt\n",
      "hooks_waterbag_light_40_T7R_1531552145230.txt\n",
      "hooks_waterbag_mediumpower_20_T7L_1531552199501.txt\n",
      "hooks_waterbag_mediumpower_20_T7R_1531552199501.txt\n",
      "hooks_waterbag_mediumpower_40_T7L_1531552199501.txt\n",
      "hooks_waterbag_mediumpower_40_T7R_1531552199501.txt\n",
      "jab_cross_shadowboxing_medium_20_T7L_1531551242371.txt\n",
      "jab_cross_shadowboxing_slow_20_T7L_1531551153638.txt\n",
      "jab_cross_waterbag_hard_20_T7L_1531551996366.txt\n",
      "jab_cross_waterbag_light_20_T7L_1531551877938.txt\n",
      "jab_cross_waterbag_mediumpower_20_T7L_1531551924743.txt\n",
      "jab_cross_shadowboxing_medium_40_T7L_1531551242371.txt\n",
      "jab_cross_shadowboxing_medium_40_T7R_1531551242371.txt\n",
      "jab_cross_shadowboxing_slow_40_T7L_1531551153638.txt\n",
      "jab_cross_shadowboxing_slow_40_T7R_1531551153638.txt\n",
      "jab_cross_waterbag_hard_40_T7L_1531551996366.txt\n",
      "jab_cross_waterbag_hard_40_T7R_1531551996366.txt\n",
      "jab_cross_waterbag_light_40_T7L_1531551877938.txt\n",
      "jab_cross_waterbag_light_40_T7R_1531551877937.txt\n",
      "jab_cross_waterbag_mediumpower_40_T7L_1531551924743.txt\n",
      "jab_cross_waterbag_mediumpower_40_T7R_1531551924743.txt\n",
      "jumping_jacks_fast_20_T7L_1531551391007.txt\n",
      "jumping_jacks_fast_20_T7R_1531551391007.txt\n",
      "jumping_jacks_mediumspeed_20_T7L_1531551366385.txt\n",
      "jumping_jacks_mediumspeed_20_T7R_1531551366385.txt\n",
      "jumping_jacks_slow_20_T7L_1531551326547.txt\n",
      "jumping_jacks_slow_20_T7R_1531551326547.txt\n",
      "jump_rope_double_40_T7L_1531551079512.txt\n",
      "jump_rope_double_40_T7R_1531551079512.txt\n",
      "jump_rope_single_40_T7L_1531551042926.txt\n",
      "jump_rope_single_40_T7R_1531551042926.txt\n",
      "kettlebell_swings_40_T7L_1531913194203.txt\n",
      "kettlebell_swings_40_T7L_1531913391388.txt\n",
      "kettlebell_swings_40_T7L_1531913578734.txt\n",
      "kettlebell_swings_40_T7R_1531913194204.txt\n",
      "kettlebell_swings_40_T7R_1531913391388.txt\n",
      "kettlebell_swings_40_T7R_1531913578734.txt\n",
      "noise_T11L_1531741791076.txt\n",
      "noise_T11L_1531741923508.txt\n",
      "noise_T11R_1531741791076.txt\n",
      "noise_T11R_1531741923508.txt\n",
      "shadowboxing_freestyle_T11L_1531914728894.txt\n",
      "shadowboxing_freestyle_T11L_1531914960874.txt\n",
      "shadowboxing_freestyle_T11L_1531915170610.txt\n",
      "shadowboxing_freestyle_T11R_1531914728894.txt\n",
      "shadowboxing_freestyle_T11R_1531914960874.txt\n",
      "shadowboxing_freestyle_T11R_1531915170609.txt\n",
      "still_trackers_T11L_1531741437662.txt\n",
      "still_trackers_T11R_1531741437662.txt\n"
     ]
    }
   ],
   "source": [
    "flat_statistics=pd.DataFrame()\n",
    "for i in range(0,len(list_names)):\n",
    "    #Take each exercise one by one\n",
    "    exercise_indices = trackers[trackers.exercise.str.contains(list_names[i])].index\n",
    "    exercise=trackers.loc[exercise_indices, :]\n",
    "    print(list_names[i])\n",
    "    loc_maxs,margin,start=find_max(exercise)\n",
    "    #Separate by individual movements \n",
    "    for j in loc_maxs:     \n",
    "        #cut into distinct movements\n",
    "        exercise1=exercise.drop(['exercise','max_value','repetitions','length'],axis=1)\n",
    "        one_mvt=exercise1[j-margin-start:j+1+margin-start]     \n",
    "        b=pd.Series()\n",
    "        b['exercise']=list_names[i]\n",
    "        #b['length_mvt']=margin*2+1\n",
    "        #b['length_exercise']=exercise.describe().loc['count'][0]\n",
    "        b['start_mvt']=j-margin-start\n",
    "        b['end_mvt']=j+1+margin-start\n",
    "        descr_stats(b,one_mvt)\n",
    "        flat_statistics=flat_statistics.append(b,ignore_index=True)"
   ]
  },
  {
   "cell_type": "code",
   "execution_count": 33,
   "metadata": {},
   "outputs": [
    {
     "data": {
      "text/html": [
       "<div>\n",
       "<style scoped>\n",
       "    .dataframe tbody tr th:only-of-type {\n",
       "        vertical-align: middle;\n",
       "    }\n",
       "\n",
       "    .dataframe tbody tr th {\n",
       "        vertical-align: top;\n",
       "    }\n",
       "\n",
       "    .dataframe thead th {\n",
       "        text-align: right;\n",
       "    }\n",
       "</style>\n",
       "<table border=\"1\" class=\"dataframe\">\n",
       "  <thead>\n",
       "    <tr style=\"text-align: right;\">\n",
       "      <th></th>\n",
       "      <th>end_mvt</th>\n",
       "      <th>exercise</th>\n",
       "      <th>gyroX_max</th>\n",
       "      <th>gyroX_mean</th>\n",
       "      <th>gyroX_min</th>\n",
       "      <th>gyroX_std</th>\n",
       "      <th>gyroY_max</th>\n",
       "      <th>gyroY_mean</th>\n",
       "      <th>gyroY_min</th>\n",
       "      <th>gyroY_std</th>\n",
       "      <th>...</th>\n",
       "      <th>lowAccelX_std</th>\n",
       "      <th>lowAccelY_max</th>\n",
       "      <th>lowAccelY_mean</th>\n",
       "      <th>lowAccelY_min</th>\n",
       "      <th>lowAccelY_std</th>\n",
       "      <th>lowAccelZ_max</th>\n",
       "      <th>lowAccelZ_mean</th>\n",
       "      <th>lowAccelZ_min</th>\n",
       "      <th>lowAccelZ_std</th>\n",
       "      <th>start_mvt</th>\n",
       "    </tr>\n",
       "  </thead>\n",
       "  <tbody>\n",
       "    <tr>\n",
       "      <th>0</th>\n",
       "      <td>349.0</td>\n",
       "      <td>jab_cross_shadowboxing_medium_20_T7R_153155124...</td>\n",
       "      <td>6469.0</td>\n",
       "      <td>9.685714</td>\n",
       "      <td>-6130.0</td>\n",
       "      <td>2897.223547</td>\n",
       "      <td>7562.0</td>\n",
       "      <td>174.685714</td>\n",
       "      <td>-9640.0</td>\n",
       "      <td>3514.842418</td>\n",
       "      <td>...</td>\n",
       "      <td>6751.292721</td>\n",
       "      <td>28628.0</td>\n",
       "      <td>-106.228571</td>\n",
       "      <td>-5600.0</td>\n",
       "      <td>7524.463429</td>\n",
       "      <td>5274.0</td>\n",
       "      <td>777.400000</td>\n",
       "      <td>-6740.0</td>\n",
       "      <td>2470.094321</td>\n",
       "      <td>314.0</td>\n",
       "    </tr>\n",
       "    <tr>\n",
       "      <th>1</th>\n",
       "      <td>380.0</td>\n",
       "      <td>jab_cross_shadowboxing_medium_20_T7R_153155124...</td>\n",
       "      <td>7605.0</td>\n",
       "      <td>-199.457143</td>\n",
       "      <td>-5688.0</td>\n",
       "      <td>2901.334869</td>\n",
       "      <td>8195.0</td>\n",
       "      <td>-248.400000</td>\n",
       "      <td>-10366.0</td>\n",
       "      <td>3587.225507</td>\n",
       "      <td>...</td>\n",
       "      <td>6000.038164</td>\n",
       "      <td>29190.0</td>\n",
       "      <td>-575.600000</td>\n",
       "      <td>-6826.0</td>\n",
       "      <td>8328.615661</td>\n",
       "      <td>7354.0</td>\n",
       "      <td>499.600000</td>\n",
       "      <td>-6514.0</td>\n",
       "      <td>2595.539491</td>\n",
       "      <td>345.0</td>\n",
       "    </tr>\n",
       "    <tr>\n",
       "      <th>2</th>\n",
       "      <td>381.0</td>\n",
       "      <td>jab_cross_shadowboxing_medium_20_T7R_153155124...</td>\n",
       "      <td>7605.0</td>\n",
       "      <td>-188.228571</td>\n",
       "      <td>-5688.0</td>\n",
       "      <td>2898.430469</td>\n",
       "      <td>8195.0</td>\n",
       "      <td>-210.657143</td>\n",
       "      <td>-10366.0</td>\n",
       "      <td>3589.250626</td>\n",
       "      <td>...</td>\n",
       "      <td>6001.783173</td>\n",
       "      <td>29190.0</td>\n",
       "      <td>-572.571429</td>\n",
       "      <td>-6826.0</td>\n",
       "      <td>8326.998058</td>\n",
       "      <td>7354.0</td>\n",
       "      <td>494.000000</td>\n",
       "      <td>-6514.0</td>\n",
       "      <td>2592.612332</td>\n",
       "      <td>346.0</td>\n",
       "    </tr>\n",
       "    <tr>\n",
       "      <th>3</th>\n",
       "      <td>414.0</td>\n",
       "      <td>jab_cross_shadowboxing_medium_20_T7R_153155124...</td>\n",
       "      <td>7079.0</td>\n",
       "      <td>41.200000</td>\n",
       "      <td>-5586.0</td>\n",
       "      <td>3064.371693</td>\n",
       "      <td>8057.0</td>\n",
       "      <td>-59.285714</td>\n",
       "      <td>-7266.0</td>\n",
       "      <td>3002.697058</td>\n",
       "      <td>...</td>\n",
       "      <td>5327.892535</td>\n",
       "      <td>28882.0</td>\n",
       "      <td>-567.371429</td>\n",
       "      <td>-5860.0</td>\n",
       "      <td>7678.061628</td>\n",
       "      <td>5468.0</td>\n",
       "      <td>265.914286</td>\n",
       "      <td>-5104.0</td>\n",
       "      <td>1887.553402</td>\n",
       "      <td>379.0</td>\n",
       "    </tr>\n",
       "    <tr>\n",
       "      <th>4</th>\n",
       "      <td>448.0</td>\n",
       "      <td>jab_cross_shadowboxing_medium_20_T7R_153155124...</td>\n",
       "      <td>6440.0</td>\n",
       "      <td>-68.542857</td>\n",
       "      <td>-5383.0</td>\n",
       "      <td>3140.043811</td>\n",
       "      <td>9255.0</td>\n",
       "      <td>-195.942857</td>\n",
       "      <td>-11190.0</td>\n",
       "      <td>3878.607777</td>\n",
       "      <td>...</td>\n",
       "      <td>5415.247724</td>\n",
       "      <td>27330.0</td>\n",
       "      <td>-568.228571</td>\n",
       "      <td>-6300.0</td>\n",
       "      <td>7050.464653</td>\n",
       "      <td>5572.0</td>\n",
       "      <td>560.714286</td>\n",
       "      <td>-5386.0</td>\n",
       "      <td>2042.105410</td>\n",
       "      <td>413.0</td>\n",
       "    </tr>\n",
       "  </tbody>\n",
       "</table>\n",
       "<p>5 rows × 39 columns</p>\n",
       "</div>"
      ],
      "text/plain": [
       "   end_mvt                                           exercise  gyroX_max  \\\n",
       "0    349.0  jab_cross_shadowboxing_medium_20_T7R_153155124...     6469.0   \n",
       "1    380.0  jab_cross_shadowboxing_medium_20_T7R_153155124...     7605.0   \n",
       "2    381.0  jab_cross_shadowboxing_medium_20_T7R_153155124...     7605.0   \n",
       "3    414.0  jab_cross_shadowboxing_medium_20_T7R_153155124...     7079.0   \n",
       "4    448.0  jab_cross_shadowboxing_medium_20_T7R_153155124...     6440.0   \n",
       "\n",
       "   gyroX_mean  gyroX_min    gyroX_std  gyroY_max  gyroY_mean  gyroY_min  \\\n",
       "0    9.685714    -6130.0  2897.223547     7562.0  174.685714    -9640.0   \n",
       "1 -199.457143    -5688.0  2901.334869     8195.0 -248.400000   -10366.0   \n",
       "2 -188.228571    -5688.0  2898.430469     8195.0 -210.657143   -10366.0   \n",
       "3   41.200000    -5586.0  3064.371693     8057.0  -59.285714    -7266.0   \n",
       "4  -68.542857    -5383.0  3140.043811     9255.0 -195.942857   -11190.0   \n",
       "\n",
       "     gyroY_std    ...      lowAccelX_std  lowAccelY_max  lowAccelY_mean  \\\n",
       "0  3514.842418    ...        6751.292721        28628.0     -106.228571   \n",
       "1  3587.225507    ...        6000.038164        29190.0     -575.600000   \n",
       "2  3589.250626    ...        6001.783173        29190.0     -572.571429   \n",
       "3  3002.697058    ...        5327.892535        28882.0     -567.371429   \n",
       "4  3878.607777    ...        5415.247724        27330.0     -568.228571   \n",
       "\n",
       "   lowAccelY_min  lowAccelY_std  lowAccelZ_max  lowAccelZ_mean  lowAccelZ_min  \\\n",
       "0        -5600.0    7524.463429         5274.0      777.400000        -6740.0   \n",
       "1        -6826.0    8328.615661         7354.0      499.600000        -6514.0   \n",
       "2        -6826.0    8326.998058         7354.0      494.000000        -6514.0   \n",
       "3        -5860.0    7678.061628         5468.0      265.914286        -5104.0   \n",
       "4        -6300.0    7050.464653         5572.0      560.714286        -5386.0   \n",
       "\n",
       "   lowAccelZ_std  start_mvt  \n",
       "0    2470.094321      314.0  \n",
       "1    2595.539491      345.0  \n",
       "2    2592.612332      346.0  \n",
       "3    1887.553402      379.0  \n",
       "4    2042.105410      413.0  \n",
       "\n",
       "[5 rows x 39 columns]"
      ]
     },
     "execution_count": 33,
     "metadata": {},
     "output_type": "execute_result"
    }
   ],
   "source": [
    "flat_statistics.head()"
   ]
  },
  {
   "cell_type": "code",
   "execution_count": 34,
   "metadata": {},
   "outputs": [
    {
     "data": {
      "text/plain": [
       "(2885, 39)"
      ]
     },
     "execution_count": 34,
     "metadata": {},
     "output_type": "execute_result"
    }
   ],
   "source": [
    "flat_statistics.shape"
   ]
  },
  {
   "cell_type": "code",
   "execution_count": 35,
   "metadata": {},
   "outputs": [],
   "source": [
    "flat_statistics.to_csv('flat_statisticswboundaries.csv',index=False)\n",
    "#flat_statistics.to_csv('flat_statisticsAug13wboundaries.csv',index=False)"
   ]
  },
  {
   "cell_type": "code",
   "execution_count": null,
   "metadata": {},
   "outputs": [],
   "source": []
  }
 ],
 "metadata": {
  "kernelspec": {
   "display_name": "Python (images)",
   "language": "python",
   "name": "images"
  },
  "language_info": {
   "codemirror_mode": {
    "name": "ipython",
    "version": 3
   },
   "file_extension": ".py",
   "mimetype": "text/x-python",
   "name": "python",
   "nbconvert_exporter": "python",
   "pygments_lexer": "ipython3",
   "version": "3.7.0"
  }
 },
 "nbformat": 4,
 "nbformat_minor": 2
}
