{
 "cells": [
  {
   "cell_type": "markdown",
   "metadata": {},
   "source": [
    "The uniform cut is bound to include repetitions. It must be chosen as small as possible to be sure not to include two movements within one window of time. Maybe a different window should be chosen for rapid movements vs. longer ones. To start with, we prefer to chose a window adapted to the fastest movements, i.e. the length of a step, following the example of this <a href='https://www.researchgate.net/publication/231212217_Step_Length_Estimation_Using_Handheld_Inertial_Sensors?enrichId=rgreq-423614f69f285922f33cc150bb687ef6-XXX&enrichSource=Y292ZXJQYWdlOzIzMTIxMjIxNztBUzo5OTU4MDk5MzYwNTY0NEAxNDAwNzUzMzY4MjM4&el=1_x_3&_esc=publicationCoverPdf'>step length estimation.</a>\n",
    "<p>\"These features are computed by dividing the data in windows of 256 samples, corresponding to 2.56 seconds, with a 50% overlap. The window size is selected to be small enough to catch any fast motion’s change and large enough to include one complete gait cycle. In addition, a window size N=2^n allows the computation of the Fast Fourier Transform (FFT) used for the analysis in the frequency domain. It is worth mentioning that the proposed FFT analysis is applied on a window that is small enough to target real time applications since the induced lag is around half of the window size, namely 1.28 seconds.\"</p>"
   ]
  },
  {
   "cell_type": "code",
   "execution_count": null,
   "metadata": {},
   "outputs": [],
   "source": [
    "import pandas as pd\n",
    "trackers=pd.read_csv('data1.csv')\n",
    "#trackers=pd.read_csv('data2.csv')"
   ]
  },
  {
   "cell_type": "code",
   "execution_count": null,
   "metadata": {},
   "outputs": [],
   "source": [
    "#Using a margin of 68 before and after the maximum as a standard based on waterbag hard (68*2+1=137)\n",
    "sensors_columns=list(trackers.columns)\n",
    "sensors_columns.remove('exercise')\n",
    "col_names=[sensors_columns[i]+str(n) for n in range(0,137) for i in range(0,len(sensors_columns)) ]\n",
    "flat_trackers = pd.DataFrame(columns=col_names)"
   ]
  },
  {
   "cell_type": "code",
   "execution_count": null,
   "metadata": {},
   "outputs": [],
   "source": []
  }
 ],
 "metadata": {
  "kernelspec": {
   "display_name": "Python (images)",
   "language": "python",
   "name": "images"
  },
  "language_info": {
   "codemirror_mode": {
    "name": "ipython",
    "version": 3
   },
   "file_extension": ".py",
   "mimetype": "text/x-python",
   "name": "python",
   "nbconvert_exporter": "python",
   "pygments_lexer": "ipython3",
   "version": "3.7.0"
  }
 },
 "nbformat": 4,
 "nbformat_minor": 2
}
