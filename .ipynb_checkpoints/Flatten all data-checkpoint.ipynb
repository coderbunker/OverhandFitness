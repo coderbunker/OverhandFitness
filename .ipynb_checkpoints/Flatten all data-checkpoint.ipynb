{
 "cells": [
  {
   "cell_type": "markdown",
   "metadata": {},
   "source": [
    " The goal is to provide a database of false examples for training the algorithm on a chosen exercise, waterbag hard.\n",
    " All the data provided is put together in a single table and repetitions of each exercise are separated into unique rows of data.\n",
    " The main difficulty is to resize the range of movements so they all fit into the database. Within one exercise the length of movements is rather similar so deciding on a standard time does not impact the result; but using the same time for all exercises is misleading. The chosen solution is to remove or add (using forward-fill) lines of data at regular intervals until all data fit into the fixed 137 (i.e. 1.37 seconds) length, which is appropriate for the waterbag exercise."
   ]
  },
  {
   "cell_type": "code",
   "execution_count": 1,
   "metadata": {},
   "outputs": [
    {
     "data": {
      "text/html": [
       "<div>\n",
       "<style scoped>\n",
       "    .dataframe tbody tr th:only-of-type {\n",
       "        vertical-align: middle;\n",
       "    }\n",
       "\n",
       "    .dataframe tbody tr th {\n",
       "        vertical-align: top;\n",
       "    }\n",
       "\n",
       "    .dataframe thead th {\n",
       "        text-align: right;\n",
       "    }\n",
       "</style>\n",
       "<table border=\"1\" class=\"dataframe\">\n",
       "  <thead>\n",
       "    <tr style=\"text-align: right;\">\n",
       "      <th></th>\n",
       "      <th>gyroX</th>\n",
       "      <th>gyroY</th>\n",
       "      <th>gyroZ</th>\n",
       "      <th>lowAccelX</th>\n",
       "      <th>lowAccelY</th>\n",
       "      <th>lowAccelZ</th>\n",
       "      <th>highAccelX</th>\n",
       "      <th>highAccelY</th>\n",
       "      <th>highAccelZ</th>\n",
       "      <th>exercise</th>\n",
       "    </tr>\n",
       "  </thead>\n",
       "  <tbody>\n",
       "    <tr>\n",
       "      <th>0</th>\n",
       "      <td>617.0</td>\n",
       "      <td>342.0</td>\n",
       "      <td>-1120.0</td>\n",
       "      <td>1338.0</td>\n",
       "      <td>2865.0</td>\n",
       "      <td>2215.0</td>\n",
       "      <td>-267.0</td>\n",
       "      <td>686.0</td>\n",
       "      <td>621.0</td>\n",
       "      <td>(jab_)cross_shadowboxing_medium_20_T7R_1531551...</td>\n",
       "    </tr>\n",
       "    <tr>\n",
       "      <th>1</th>\n",
       "      <td>477.0</td>\n",
       "      <td>-49.0</td>\n",
       "      <td>-1214.0</td>\n",
       "      <td>1516.0</td>\n",
       "      <td>3041.0</td>\n",
       "      <td>2332.0</td>\n",
       "      <td>-249.0</td>\n",
       "      <td>704.0</td>\n",
       "      <td>633.0</td>\n",
       "      <td>(jab_)cross_shadowboxing_medium_20_T7R_1531551...</td>\n",
       "    </tr>\n",
       "    <tr>\n",
       "      <th>2</th>\n",
       "      <td>228.0</td>\n",
       "      <td>-596.0</td>\n",
       "      <td>-1256.0</td>\n",
       "      <td>1602.0</td>\n",
       "      <td>3406.0</td>\n",
       "      <td>1796.0</td>\n",
       "      <td>-240.0</td>\n",
       "      <td>740.0</td>\n",
       "      <td>579.0</td>\n",
       "      <td>(jab_)cross_shadowboxing_medium_20_T7R_1531551...</td>\n",
       "    </tr>\n",
       "    <tr>\n",
       "      <th>3</th>\n",
       "      <td>24.0</td>\n",
       "      <td>-1098.0</td>\n",
       "      <td>-1276.0</td>\n",
       "      <td>1264.0</td>\n",
       "      <td>3484.0</td>\n",
       "      <td>1194.0</td>\n",
       "      <td>-274.0</td>\n",
       "      <td>748.0</td>\n",
       "      <td>519.0</td>\n",
       "      <td>(jab_)cross_shadowboxing_medium_20_T7R_1531551...</td>\n",
       "    </tr>\n",
       "    <tr>\n",
       "      <th>4</th>\n",
       "      <td>-164.0</td>\n",
       "      <td>-1552.0</td>\n",
       "      <td>-1236.0</td>\n",
       "      <td>1016.0</td>\n",
       "      <td>3876.0</td>\n",
       "      <td>576.0</td>\n",
       "      <td>-299.0</td>\n",
       "      <td>787.0</td>\n",
       "      <td>457.0</td>\n",
       "      <td>(jab_)cross_shadowboxing_medium_20_T7R_1531551...</td>\n",
       "    </tr>\n",
       "  </tbody>\n",
       "</table>\n",
       "</div>"
      ],
      "text/plain": [
       "   gyroX   gyroY   gyroZ  lowAccelX  lowAccelY  lowAccelZ  highAccelX  \\\n",
       "0  617.0   342.0 -1120.0     1338.0     2865.0     2215.0      -267.0   \n",
       "1  477.0   -49.0 -1214.0     1516.0     3041.0     2332.0      -249.0   \n",
       "2  228.0  -596.0 -1256.0     1602.0     3406.0     1796.0      -240.0   \n",
       "3   24.0 -1098.0 -1276.0     1264.0     3484.0     1194.0      -274.0   \n",
       "4 -164.0 -1552.0 -1236.0     1016.0     3876.0      576.0      -299.0   \n",
       "\n",
       "   highAccelY  highAccelZ                                           exercise  \n",
       "0       686.0       621.0  (jab_)cross_shadowboxing_medium_20_T7R_1531551...  \n",
       "1       704.0       633.0  (jab_)cross_shadowboxing_medium_20_T7R_1531551...  \n",
       "2       740.0       579.0  (jab_)cross_shadowboxing_medium_20_T7R_1531551...  \n",
       "3       748.0       519.0  (jab_)cross_shadowboxing_medium_20_T7R_1531551...  \n",
       "4       787.0       457.0  (jab_)cross_shadowboxing_medium_20_T7R_1531551...  "
      ]
     },
     "execution_count": 1,
     "metadata": {},
     "output_type": "execute_result"
    }
   ],
   "source": [
    "import pandas as pd\n",
    "trackers=pd.read_csv('data1.csv')\n",
    "trackers.head()"
   ]
  },
  {
   "cell_type": "code",
   "execution_count": 2,
   "metadata": {},
   "outputs": [],
   "source": [
    "#Using a margin of 68 before and after the maximum as a standard based on waterbag hard (68*2+1=137)\n",
    "sensors_columns=list(trackers.columns)\n",
    "sensors_columns.remove('exercise')\n",
    "col_names=[sensors_columns[i]+str(n) for n in range(0,137) for i in range(0,len(sensors_columns)) ]\n",
    "flat_trackers = pd.DataFrame(columns=col_names)"
   ]
  },
  {
   "cell_type": "code",
   "execution_count": 3,
   "metadata": {},
   "outputs": [
    {
     "data": {
      "text/plain": [
       "(363327, 11)"
      ]
     },
     "execution_count": 3,
     "metadata": {},
     "output_type": "execute_result"
    }
   ],
   "source": [
    "#Find max of each row\n",
    "trackers['max_value']=trackers.max(axis=1)\n",
    "trackers.shape"
   ]
  },
  {
   "cell_type": "code",
   "execution_count": 4,
   "metadata": {},
   "outputs": [],
   "source": [
    "trackers.dropna(inplace=True)"
   ]
  },
  {
   "cell_type": "code",
   "execution_count": 5,
   "metadata": {},
   "outputs": [
    {
     "data": {
      "text/plain": [
       "(345729, 11)"
      ]
     },
     "execution_count": 5,
     "metadata": {},
     "output_type": "execute_result"
    }
   ],
   "source": [
    "trackers.shape"
   ]
  },
  {
   "cell_type": "code",
   "execution_count": 6,
   "metadata": {},
   "outputs": [
    {
     "data": {
      "text/plain": [
       "array([ 20.,  10.,   8.,   9., 162.,  40.,  29., 114., 110.,  18.,  17.])"
      ]
     },
     "execution_count": 6,
     "metadata": {},
     "output_type": "execute_result"
    }
   ],
   "source": [
    "#Count movements in each series from the series title (when the count is indicated)\n",
    "trackers['repetitions']=trackers['exercise'].str.extract('(\\d+)_T7', expand=True)\n",
    "trackers.repetitions = pd.to_numeric(trackers.repetitions,errors='coerce')\n",
    "#for series of noise, the range is a factor of the length of time / 137 (our chosen standard length based on waterbag_hard)\n",
    "trackers['length'] = trackers.groupby(['exercise']).transform('count')['gyroX']\n",
    "fill_value=trackers['length']/137\n",
    "trackers['repetitions'].fillna(round(fill_value,0),inplace=True)\n",
    "trackers.repetitions.unique()"
   ]
  },
  {
   "cell_type": "code",
   "execution_count": 7,
   "metadata": {},
   "outputs": [],
   "source": [
    "#Create a list of exercise names\n",
    "import glob\n",
    "list_files=glob.glob('./recordings+7.14+Luc/*.txt')\n",
    "list_names=[s.strip('(jab_recordings+7.14+Luc/\\\\.txt').replace('-','_').replace(')','') for s in list_files]"
   ]
  },
  {
   "cell_type": "code",
   "execution_count": 8,
   "metadata": {},
   "outputs": [],
   "source": [
    "#Basic visualization function\n",
    "def pre_visualize(data,title):\n",
    "    import matplotlib.pyplot as plt\n",
    "    %matplotlib inline\n",
    "    data.plot(figsize=(12, 6))\n",
    "    plt.xlabel('time'), plt.ylabel('acceleration'),plt.title(title)\n",
    "    plt.show()"
   ]
  },
  {
   "cell_type": "markdown",
   "metadata": {},
   "source": [
    "The below solution doesn't work very well. A demonstration of RapidMiner has shown that instead of trying to identify the local maximum as both a clue on the number of repetitions and the median of one movement, it would be more efficient to train the model to recognize the beginning of a pattern by using the first movement as a model. We propose to try to imitate this RapidMiner approach in another program in the future."
   ]
  },
  {
   "cell_type": "code",
   "execution_count": 9,
   "metadata": {},
   "outputs": [],
   "source": [
    "#Find local maximums & extract margin\n",
    "def find_max(df):\n",
    "    reps=int(df.repetitions.unique())\n",
    "    maximums=df.max_value.sort_values(ascending=False)[0:reps] #imperfect solution when the maximum is reached slowly\n",
    "    maximums.sort_index(inplace=True)\n",
    "    #Select only the maximums corresponding to the number of repetitions\n",
    "    margin=int((maximums.index[reps-1]-maximums.index[0])/(reps-1)/2)\n",
    "    start=df.index[0]\n",
    "    return maximums.index.values,margin,start"
   ]
  },
  {
   "cell_type": "code",
   "execution_count": 15,
   "metadata": {},
   "outputs": [
    {
     "name": "stdout",
     "output_type": "stream",
     "text": [
      "301\n",
      "101\n",
      "101\n",
      "101\n",
      "101\n",
      "101\n",
      "101\n",
      "101\n",
      "101\n",
      "101\n",
      "101\n",
      "219\n",
      "146\n",
      "146\n",
      "146\n",
      "146\n",
      "146\n",
      "146\n",
      "146\n",
      "146\n",
      "146\n",
      "146\n"
     ]
    }
   ],
   "source": [
    "import numpy as np\n",
    "\n",
    "for i in range(0,len(list_names))[0:10]:\n",
    "    #Take each exercise one by one\n",
    "    exercise_indices = trackers[trackers.exercise.str.contains(list_names[i])].index\n",
    "    exercise=trackers.loc[exercise_indices, :]\n",
    "    loc_maxs,margin,start=find_max(exercise)\n",
    "    #Standardize the length of movements (1): intervals are built from a ratio of the mvt_length to 137\n",
    "    mvt_length=(loc_maxs[0]+1+margin-start)-(loc_maxs[0]-margin-start)\n",
    "    if mvt_length>137:\n",
    "        ratio=mvt_length/137\n",
    "    else:\n",
    "        ratio=int(round(137/mvt_length,0))\n",
    "    \n",
    "    #Separate by individual movements \n",
    "    for j in loc_maxs:     \n",
    "        exercise1=exercise.drop(['exercise','max_value','repetitions','length'],axis=1)\n",
    "        one_mvt=exercise1[j-margin-start:j+1+margin-start]\n",
    "          \n",
    "        #Standardize the length of movements to 1.37 seconds (137 rows) (2)\n",
    "        #create a custom-made list starting at the start of the df and jumping at regular intervals\n",
    "        if mvt_length>137:\n",
    "            new_index=[list(range(j-margin,j+137)[x:x+ratio]) for x in range(0,mvt_length,ratio+1)]\n",
    "            new_index=np.array(new_index).flatten().tolist()\n",
    "            print(len(new_index))\n",
    "            #one_mvt=one_mvt.reindex(new_index)\n",
    "            #print(one_mvt.shape)\n",
    "        #if mvt_length<137:\n",
    "            \n",
    "\n",
    "#         one_mvt.reset_index(inplace=True)\n",
    "#         one_mvt=one_mvt.drop('index',axis=1)\n",
    "#         one_mvt=one_mvt.reindex(range(0,137))\n",
    "#         a=pd.Series(one_mvt.values.flatten())\n",
    "#         a=a.rename(index=lambda x:col_names[x]).T\n",
    "#         flat_trackers=flat_trackers.append(a,ignore_index=True)\n",
    "\n",
    "#   if i<3:\n",
    "#       pre_visualize(one_mvt,list_names[i])"
   ]
  },
  {
   "cell_type": "code",
   "execution_count": 11,
   "metadata": {},
   "outputs": [
    {
     "data": {
      "text/plain": [
       "9697"
      ]
     },
     "execution_count": 11,
     "metadata": {},
     "output_type": "execute_result"
    }
   ],
   "source": [
    "9984-137-150"
   ]
  },
  {
   "cell_type": "code",
   "execution_count": 12,
   "metadata": {},
   "outputs": [],
   "source": [
    "#Find movement of max length to determine the necessary padding to the average movement length\n",
    "# print(trackers[trackers.repetitions<=40]['length'].max())\n",
    "# print(trackers[trackers.exercise.str.contains('waterbag_hard_20_T7R_1531551')]['length'].unique())"
   ]
  },
  {
   "cell_type": "code",
   "execution_count": 13,
   "metadata": {},
   "outputs": [
    {
     "data": {
      "text/plain": [
       "[[0, 1], [3, 4], [6, 7], [9, 10], [12, 13], [15, 16], [18, 19]]"
      ]
     },
     "execution_count": 13,
     "metadata": {},
     "output_type": "execute_result"
    }
   ],
   "source": [
    "#[k+ratio for k in range(j-margin,j+137,ratio)]\n",
    "[list(range(0,20)[x:x+2]) for x in range(0,20,3)]"
   ]
  },
  {
   "cell_type": "code",
   "execution_count": 14,
   "metadata": {},
   "outputs": [
    {
     "data": {
      "text/plain": [
       "[0, 1, 3, 4, 6, 7, 9, 10, 12, 13, 15, 16, 18, 19]"
      ]
     },
     "execution_count": 14,
     "metadata": {},
     "output_type": "execute_result"
    }
   ],
   "source": [
    "import numpy as np\n",
    "flatten_list=np.array(_).flatten().tolist()\n",
    "flatten_list"
   ]
  },
  {
   "cell_type": "code",
   "execution_count": 17,
   "metadata": {},
   "outputs": [
    {
     "name": "stdout",
     "output_type": "stream",
     "text": [
      "[10, 2, 3, 4, 8, 5, 7]\n"
     ]
    }
   ],
   "source": [
    "import random\n",
    "\n",
    "def remove(l,n):\n",
    "    return random.sample(l,int(len(l)*(1-n)))\n",
    "\n",
    "print(remove(list(range(1,11)),0.25))"
   ]
  },
  {
   "cell_type": "code",
   "execution_count": null,
   "metadata": {},
   "outputs": [],
   "source": []
  }
 ],
 "metadata": {
  "kernelspec": {
   "display_name": "Python [default]",
   "language": "python",
   "name": "python3"
  },
  "language_info": {
   "codemirror_mode": {
    "name": "ipython",
    "version": 3
   },
   "file_extension": ".py",
   "mimetype": "text/x-python",
   "name": "python",
   "nbconvert_exporter": "python",
   "pygments_lexer": "ipython3",
   "version": "3.6.6"
  }
 },
 "nbformat": 4,
 "nbformat_minor": 2
}
